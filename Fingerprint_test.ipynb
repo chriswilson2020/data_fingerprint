{
 "cells": [
  {
   "cell_type": "code",
   "execution_count": 1,
   "id": "521e2878-886b-41eb-83d7-807ffaabdbb0",
   "metadata": {},
   "outputs": [],
   "source": [
    "import data_fingerprint"
   ]
  },
  {
   "cell_type": "code",
   "execution_count": 2,
   "id": "f4b3a661-829e-430c-8a27-f8494c591644",
   "metadata": {},
   "outputs": [],
   "source": [
    "# Set a file Path\n",
    "file_path = './validation_files/file1.csv'"
   ]
  },
  {
   "cell_type": "code",
   "execution_count": 3,
   "id": "aed8ca40-41e5-4a81-b481-612af1de304d",
   "metadata": {},
   "outputs": [
    {
     "name": "stdout",
     "output_type": "stream",
     "text": [
      "Order-dependent fingerprint: 3df567e40a47791600511d324a401aa0054a76ef2b3d7b59b6c9933032d04953 \n",
      "\n",
      "Order-independent fingerprint: 449a4c9bec3937396e6f19a4024011877cc514cc4d47bd9a24ee7b661c2b274d \n",
      "\n"
     ]
    },
    {
     "name": "stderr",
     "output_type": "stream",
     "text": [
      "/home/jupyter-aqpha/Chris/FingerPrinting/data_fingerprint.py:193: UserWarning: Could not infer format, so each element will be parsed individually, falling back to `dateutil`. To ensure parsing is consistent and as-expected, please specify a format.\n",
      "  parsed_col = pd.to_datetime(df[col], errors='coerce')\n",
      "/home/jupyter-aqpha/Chris/FingerPrinting/data_fingerprint.py:193: UserWarning: Could not infer format, so each element will be parsed individually, falling back to `dateutil`. To ensure parsing is consistent and as-expected, please specify a format.\n",
      "  parsed_col = pd.to_datetime(df[col], errors='coerce')\n",
      "/home/jupyter-aqpha/Chris/FingerPrinting/data_fingerprint.py:193: UserWarning: Could not infer format, so each element will be parsed individually, falling back to `dateutil`. To ensure parsing is consistent and as-expected, please specify a format.\n",
      "  parsed_col = pd.to_datetime(df[col], errors='coerce')\n",
      "/home/jupyter-aqpha/Chris/FingerPrinting/data_fingerprint.py:193: UserWarning: Could not infer format, so each element will be parsed individually, falling back to `dateutil`. To ensure parsing is consistent and as-expected, please specify a format.\n",
      "  parsed_col = pd.to_datetime(df[col], errors='coerce')\n"
     ]
    }
   ],
   "source": [
    "# Order-Dependent Fingerprint\n",
    "fingerprint_dep = data_fingerprint.process_file_with_order_dependent_fingerprint(file_path)\n",
    "print(\"Order-dependent fingerprint:\", fingerprint_dep, \"\\n\")\n",
    "\n",
    "# Order-Independent Fingerprint\n",
    "fingerprint_indep = data_fingerprint.process_file_with_order_independent_fingerprint(file_path)\n",
    "print(\"Order-independent fingerprint:\", fingerprint_indep, \"\\n\")\n"
   ]
  },
  {
   "cell_type": "code",
   "execution_count": 4,
   "id": "476e7a4a-be20-40ec-842d-2c280a488299",
   "metadata": {},
   "outputs": [],
   "source": [
    "import pandas as pd\n",
    "import csv\n",
    "\n",
    "def csv_to_excel(csv_file_path, excel_file_path):\n",
    "    try:\n",
    "        # Read a sample of the file to detect the delimiter\n",
    "        with open(csv_file_path, 'r', encoding='utf-8') as csvfile:\n",
    "            sample = csvfile.read(2048)\n",
    "            # Use Sniffer to detect the delimiter\n",
    "            sniffer = csv.Sniffer()\n",
    "            try:\n",
    "                dialect = sniffer.sniff(sample, delimiters=[',', ';', '\\t', '|'])\n",
    "                delimiter = dialect.delimiter\n",
    "                print(f\"Detected delimiter: '{delimiter}'\")\n",
    "            except csv.Error:\n",
    "                # Default to comma if Sniffer fails\n",
    "                delimiter = ','\n",
    "                print(\"Could not detect delimiter. Defaulting to comma.\")\n",
    "        # Read the CSV with the detected delimiter and specify decimal separator\n",
    "        df = pd.read_csv(csv_file_path, delimiter=delimiter, decimal=',')\n",
    "        # Write to an Excel file\n",
    "        df.to_excel(excel_file_path, index=False)\n",
    "        print(f\"Successfully converted '{csv_file_path}' to '{excel_file_path}'\")\n",
    "    except Exception as e:\n",
    "        print(f\"Error: {e}\")\n"
   ]
  },
  {
   "cell_type": "code",
   "execution_count": 5,
   "id": "489cf349-9aac-41e2-9556-7a28303dabd5",
   "metadata": {},
   "outputs": [],
   "source": [
    "csv_file_path = file_path      # Replace with your CSV file path\n",
    "excel_file_path = f'{file_path}output.xlsx'  # Replace with your desired Excel file path\n"
   ]
  },
  {
   "cell_type": "code",
   "execution_count": 6,
   "id": "66c7e175-23e0-4927-8ad5-111a01672d42",
   "metadata": {},
   "outputs": [
    {
     "name": "stdout",
     "output_type": "stream",
     "text": [
      "Detected delimiter: ','\n",
      "Successfully converted './validation_files/file1.csv' to './validation_files/file1.csvoutput.xlsx'\n"
     ]
    }
   ],
   "source": [
    "csv_to_excel(csv_file_path, excel_file_path)"
   ]
  },
  {
   "cell_type": "code",
   "execution_count": 7,
   "id": "5ccb2c67-038d-4b2a-92f6-559d1c8e3cd3",
   "metadata": {},
   "outputs": [
    {
     "name": "stdout",
     "output_type": "stream",
     "text": [
      "Order-dependent fingerprint: 3df567e40a47791600511d324a401aa0054a76ef2b3d7b59b6c9933032d04953 \n",
      "\n",
      "Order-independent fingerprint: 449a4c9bec3937396e6f19a4024011877cc514cc4d47bd9a24ee7b661c2b274d \n",
      "\n"
     ]
    },
    {
     "name": "stderr",
     "output_type": "stream",
     "text": [
      "/home/jupyter-aqpha/Chris/FingerPrinting/data_fingerprint.py:193: UserWarning: Could not infer format, so each element will be parsed individually, falling back to `dateutil`. To ensure parsing is consistent and as-expected, please specify a format.\n",
      "  parsed_col = pd.to_datetime(df[col], errors='coerce')\n",
      "/home/jupyter-aqpha/Chris/FingerPrinting/data_fingerprint.py:193: UserWarning: Could not infer format, so each element will be parsed individually, falling back to `dateutil`. To ensure parsing is consistent and as-expected, please specify a format.\n",
      "  parsed_col = pd.to_datetime(df[col], errors='coerce')\n",
      "/home/jupyter-aqpha/Chris/FingerPrinting/data_fingerprint.py:193: UserWarning: Could not infer format, so each element will be parsed individually, falling back to `dateutil`. To ensure parsing is consistent and as-expected, please specify a format.\n",
      "  parsed_col = pd.to_datetime(df[col], errors='coerce')\n",
      "/home/jupyter-aqpha/Chris/FingerPrinting/data_fingerprint.py:193: UserWarning: Could not infer format, so each element will be parsed individually, falling back to `dateutil`. To ensure parsing is consistent and as-expected, please specify a format.\n",
      "  parsed_col = pd.to_datetime(df[col], errors='coerce')\n"
     ]
    }
   ],
   "source": [
    "# Order-Dependent Fingerprint\n",
    "fingerprint_dep = data_fingerprint.process_file_with_order_dependent_fingerprint(excel_file_path)\n",
    "print(\"Order-dependent fingerprint:\", fingerprint_dep, \"\\n\")\n",
    "\n",
    "# Order-Independent Fingerprint\n",
    "fingerprint_indep = data_fingerprint.process_file_with_order_independent_fingerprint(excel_file_path)\n",
    "print(\"Order-independent fingerprint:\", fingerprint_indep, \"\\n\")\n"
   ]
  },
  {
   "cell_type": "code",
   "execution_count": 8,
   "id": "9e10c02c-d5f8-4910-a28f-6af4267d3fc7",
   "metadata": {},
   "outputs": [],
   "source": [
    "json_file_path = f'{file_path}output.json'"
   ]
  },
  {
   "cell_type": "code",
   "execution_count": 9,
   "id": "a7801d2f-4044-490e-8674-96e3e9753b82",
   "metadata": {},
   "outputs": [],
   "source": [
    "import pandas as pd\n",
    "import csv\n",
    "\n",
    "def csv_to_json(csv_file_path, json_file_path):\n",
    "    try:\n",
    "        # Read a sample of the file to detect the delimiter\n",
    "        with open(csv_file_path, 'r', encoding='utf-8') as csvfile:\n",
    "            sample = csvfile.read(2048)\n",
    "            # Use Sniffer to detect the delimiter\n",
    "            sniffer = csv.Sniffer()\n",
    "            try:\n",
    "                dialect = sniffer.sniff(sample, delimiters=[',', ';', '\\t', '|'])\n",
    "                delimiter = dialect.delimiter\n",
    "                print(f\"Detected delimiter: '{delimiter}'\")\n",
    "            except csv.Error:\n",
    "                # Default to comma if Sniffer fails\n",
    "                delimiter = ','\n",
    "                print(\"Could not detect delimiter. Defaulting to comma.\")\n",
    "\n",
    "        # Read the CSV with the detected delimiter and specify decimal separator\n",
    "        df = pd.read_csv(csv_file_path, delimiter=delimiter, decimal=',')\n",
    "        # Parse the 'Timestamp' column to datetime, including seconds\n",
    "        df['Timestamp'] = pd.to_datetime(df['Timestamp'], format='%d-%m-%Y %H:%M')\n",
    "\n",
    "        # Standardize the 'Timestamp' column to include seconds\n",
    "        df['Timestamp'] = df['Timestamp'].dt.strftime('%Y-%m-%d %H:%M:%S')\n",
    "\n",
    "        # Write to a JSON file with precise floating-point numbers\n",
    "        df.to_json(json_file_path, orient='records', index=False, double_precision=15)\n",
    "        print(f\"Successfully converted '{csv_file_path}' to '{json_file_path}'\")\n",
    "    except Exception as e:\n",
    "        print(f\"Error: {e}\")\n"
   ]
  },
  {
   "cell_type": "code",
   "execution_count": 10,
   "id": "c5921ca4-ae57-4ee7-8937-6a22a8445d7b",
   "metadata": {},
   "outputs": [
    {
     "name": "stdout",
     "output_type": "stream",
     "text": [
      "Detected delimiter: ','\n",
      "Error: 'Timestamp'\n"
     ]
    }
   ],
   "source": [
    "csv_to_json(csv_file_path, json_file_path)"
   ]
  },
  {
   "cell_type": "code",
   "execution_count": 11,
   "id": "8f1d5acc-60a8-4074-85dd-1f64139ee22f",
   "metadata": {},
   "outputs": [],
   "source": [
    "# Order-Dependent Fingerprint\n",
    "#fingerprint_dep = data_fingerprint.process_file_with_order_dependent_fingerprint(json_file_path)\n",
    "#print(\"Order-dependent fingerprint:\", fingerprint_dep, \"\\n\")\n",
    "\n",
    "# Order-Independent Fingerprint\n",
    "#fingerprint_indep = data_fingerprint.process_file_with_order_independent_fingerprint(json_file_path)\n",
    "#print(\"Order-independent fingerprint:\", fingerprint_indep, \"\\n\")"
   ]
  },
  {
   "cell_type": "code",
   "execution_count": 12,
   "id": "4c37c06e-359d-4b04-b635-45e556a03e75",
   "metadata": {},
   "outputs": [],
   "source": [
    "import pandas as pd\n",
    "import csv\n",
    "\n",
    "def csv_to_json(csv_file_path, json_file_path):\n",
    "    try:\n",
    "        # Read a sample of the file to detect the delimiter\n",
    "        with open(csv_file_path, 'r', encoding='utf-8') as csvfile:\n",
    "            sample = csvfile.read(2048)\n",
    "            # Use Sniffer to detect the delimiter\n",
    "            sniffer = csv.Sniffer()\n",
    "            try:\n",
    "                dialect = sniffer.sniff(sample, delimiters=[',', ';', '\\t', '|'])\n",
    "                delimiter = dialect.delimiter\n",
    "                print(f\"Detected delimiter: '{delimiter}'\")\n",
    "            except csv.Error:\n",
    "                # Default to comma if Sniffer fails\n",
    "                delimiter = ','\n",
    "                print(\"Could not detect delimiter. Defaulting to comma.\")\n",
    "        # Read the CSV with the detected delimiter and specify decimal separator\n",
    "        df = pd.read_csv(csv_file_path, delimiter=delimiter, decimal=',')\n",
    "        # Write to a JSON file\n",
    "        df.to_json(json_file_path, orient='records', index=False)\n",
    "        print(f\"Successfully converted '{csv_file_path}' to '{json_file_path}'\")\n",
    "    except Exception as e:\n",
    "        print(f\"Error: {e}\")"
   ]
  },
  {
   "cell_type": "code",
   "execution_count": 13,
   "id": "8ce0aa64-fdac-4b5f-a423-2c6992269fd5",
   "metadata": {},
   "outputs": [
    {
     "name": "stdout",
     "output_type": "stream",
     "text": [
      "Detected delimiter: ','\n",
      "Successfully converted './validation_files/file1.csv' to './validation_files/file1.csvoutput.json'\n"
     ]
    }
   ],
   "source": [
    "csv_to_json(csv_file_path, json_file_path)"
   ]
  },
  {
   "cell_type": "code",
   "execution_count": 14,
   "id": "a787fa62-d322-4eca-b6b7-748f92f4df34",
   "metadata": {},
   "outputs": [
    {
     "name": "stdout",
     "output_type": "stream",
     "text": [
      "Order-dependent fingerprint: 3df567e40a47791600511d324a401aa0054a76ef2b3d7b59b6c9933032d04953 \n",
      "\n",
      "Order-independent fingerprint: 449a4c9bec3937396e6f19a4024011877cc514cc4d47bd9a24ee7b661c2b274d \n",
      "\n"
     ]
    },
    {
     "name": "stderr",
     "output_type": "stream",
     "text": [
      "/home/jupyter-aqpha/Chris/FingerPrinting/data_fingerprint.py:193: UserWarning: Could not infer format, so each element will be parsed individually, falling back to `dateutil`. To ensure parsing is consistent and as-expected, please specify a format.\n",
      "  parsed_col = pd.to_datetime(df[col], errors='coerce')\n",
      "/home/jupyter-aqpha/Chris/FingerPrinting/data_fingerprint.py:193: UserWarning: Could not infer format, so each element will be parsed individually, falling back to `dateutil`. To ensure parsing is consistent and as-expected, please specify a format.\n",
      "  parsed_col = pd.to_datetime(df[col], errors='coerce')\n",
      "/home/jupyter-aqpha/Chris/FingerPrinting/data_fingerprint.py:193: UserWarning: Could not infer format, so each element will be parsed individually, falling back to `dateutil`. To ensure parsing is consistent and as-expected, please specify a format.\n",
      "  parsed_col = pd.to_datetime(df[col], errors='coerce')\n",
      "/home/jupyter-aqpha/Chris/FingerPrinting/data_fingerprint.py:193: UserWarning: Could not infer format, so each element will be parsed individually, falling back to `dateutil`. To ensure parsing is consistent and as-expected, please specify a format.\n",
      "  parsed_col = pd.to_datetime(df[col], errors='coerce')\n"
     ]
    }
   ],
   "source": [
    "# Order-Dependent Fingerprint\n",
    "fingerprint_dep = data_fingerprint.process_file_with_order_dependent_fingerprint(json_file_path)\n",
    "print(\"Order-dependent fingerprint:\", fingerprint_dep, \"\\n\")\n",
    "\n",
    "# Order-Independent Fingerprint\n",
    "fingerprint_indep = data_fingerprint.process_file_with_order_independent_fingerprint(json_file_path)\n",
    "print(\"Order-independent fingerprint:\", fingerprint_indep, \"\\n\")"
   ]
  },
  {
   "cell_type": "code",
   "execution_count": 15,
   "id": "16b43c8a-9332-4492-b26f-40a9707222e6",
   "metadata": {},
   "outputs": [],
   "source": [
    "import pandas as pd\n",
    "import csv\n",
    "import xml.etree.ElementTree as ET\n",
    "\n",
    "def csv_to_xml(csv_file_path, xml_file_path):\n",
    "    try:\n",
    "        # Read a sample of the file to detect the delimiter\n",
    "        with open(csv_file_path, 'r', encoding='utf-8') as csvfile:\n",
    "            sample = csvfile.read(2048)\n",
    "            # Use Sniffer to detect the delimiter\n",
    "            sniffer = csv.Sniffer()\n",
    "            try:\n",
    "                dialect = sniffer.sniff(sample, delimiters=[',', ';', '\\t', '|'])\n",
    "                delimiter = dialect.delimiter\n",
    "                print(f\"Detected delimiter: '{delimiter}'\")\n",
    "            except csv.Error:\n",
    "                # Default to comma if Sniffer fails\n",
    "                delimiter = ','\n",
    "                print(\"Could not detect delimiter. Defaulting to comma.\")\n",
    "        \n",
    "        # Read the CSV with the detected delimiter and specify decimal separator\n",
    "        df = pd.read_csv(csv_file_path, delimiter=delimiter, decimal=',')\n",
    "        \n",
    "        # Create the root of the XML tree\n",
    "        root = ET.Element('root')\n",
    "\n",
    "        # Loop through the DataFrame and create XML entries\n",
    "        for _, row in df.iterrows():\n",
    "            row_element = ET.SubElement(root, 'row')\n",
    "            for col_name, value in row.items():\n",
    "                # Create a sub-element for each field\n",
    "                field = ET.SubElement(row_element, col_name)\n",
    "                field.text = str(value)\n",
    "\n",
    "        # Write the XML tree to a file\n",
    "        tree = ET.ElementTree(root)\n",
    "        tree.write(xml_file_path, encoding='utf-8', xml_declaration=True)\n",
    "        \n",
    "        print(f\"Successfully converted '{csv_file_path}' to '{xml_file_path}'\")\n",
    "\n",
    "    except Exception as e:\n",
    "        print(f\"Error: {e}\")\n",
    "\n",
    "\n"
   ]
  },
  {
   "cell_type": "code",
   "execution_count": 16,
   "id": "bb4a33f8-aacb-49b8-aa35-2aa0870cffdc",
   "metadata": {},
   "outputs": [
    {
     "name": "stdout",
     "output_type": "stream",
     "text": [
      "Detected delimiter: ','\n",
      "Successfully converted './validation_files/file1.csv' to './validation_files/file1.csvoutput.xml'\n"
     ]
    }
   ],
   "source": [
    "# Example usage\n",
    "xml_file_path = f'{file_path}output.xml'\n",
    "\n",
    "json_file_path = f'{file_path}output.json'\n",
    "csv_to_xml(csv_file_path, xml_file_path)"
   ]
  },
  {
   "cell_type": "code",
   "execution_count": 17,
   "id": "6f695e59-8469-4e44-8962-20bc79c11454",
   "metadata": {},
   "outputs": [
    {
     "name": "stderr",
     "output_type": "stream",
     "text": [
      "/home/jupyter-aqpha/Chris/FingerPrinting/data_fingerprint.py:193: UserWarning: Could not infer format, so each element will be parsed individually, falling back to `dateutil`. To ensure parsing is consistent and as-expected, please specify a format.\n",
      "  parsed_col = pd.to_datetime(df[col], errors='coerce')\n",
      "/home/jupyter-aqpha/Chris/FingerPrinting/data_fingerprint.py:193: UserWarning: Could not infer format, so each element will be parsed individually, falling back to `dateutil`. To ensure parsing is consistent and as-expected, please specify a format.\n",
      "  parsed_col = pd.to_datetime(df[col], errors='coerce')\n"
     ]
    },
    {
     "name": "stdout",
     "output_type": "stream",
     "text": [
      "Order-dependent fingerprint: 3df567e40a47791600511d324a401aa0054a76ef2b3d7b59b6c9933032d04953 \n",
      "\n",
      "Order-independent fingerprint: 449a4c9bec3937396e6f19a4024011877cc514cc4d47bd9a24ee7b661c2b274d \n",
      "\n"
     ]
    },
    {
     "name": "stderr",
     "output_type": "stream",
     "text": [
      "/home/jupyter-aqpha/Chris/FingerPrinting/data_fingerprint.py:193: UserWarning: Could not infer format, so each element will be parsed individually, falling back to `dateutil`. To ensure parsing is consistent and as-expected, please specify a format.\n",
      "  parsed_col = pd.to_datetime(df[col], errors='coerce')\n",
      "/home/jupyter-aqpha/Chris/FingerPrinting/data_fingerprint.py:193: UserWarning: Could not infer format, so each element will be parsed individually, falling back to `dateutil`. To ensure parsing is consistent and as-expected, please specify a format.\n",
      "  parsed_col = pd.to_datetime(df[col], errors='coerce')\n"
     ]
    }
   ],
   "source": [
    "# Order-Dependent Fingerprint\n",
    "fingerprint_dep = data_fingerprint.process_file_with_order_dependent_fingerprint(xml_file_path)\n",
    "print(\"Order-dependent fingerprint:\", fingerprint_dep, \"\\n\")\n",
    "\n",
    "# Order-Independent Fingerprint\n",
    "fingerprint_indep = data_fingerprint.process_file_with_order_independent_fingerprint(xml_file_path)\n",
    "print(\"Order-independent fingerprint:\", fingerprint_indep, \"\\n\")"
   ]
  },
  {
   "cell_type": "code",
   "execution_count": 18,
   "id": "662f6075-d189-46f4-a4da-00ec26f92c14",
   "metadata": {},
   "outputs": [],
   "source": [
    "import pandas as pd\n",
    "import csv\n",
    "\n",
    "def csv_to_html(csv_file_path, html_file_path):\n",
    "    try:\n",
    "        # Read a sample of the file to detect the delimiter\n",
    "        with open(csv_file_path, 'r', encoding='utf-8') as csvfile:\n",
    "            sample = csvfile.read(2048)\n",
    "            # Use Sniffer to detect the delimiter\n",
    "            sniffer = csv.Sniffer()\n",
    "            try:\n",
    "                dialect = sniffer.sniff(sample, delimiters=[',', ';', '\\t', '|'])\n",
    "                delimiter = dialect.delimiter\n",
    "                print(f\"Detected delimiter: '{delimiter}'\")\n",
    "            except csv.Error:\n",
    "                # Default to comma if Sniffer fails\n",
    "                delimiter = ','\n",
    "                print(\"Could not detect delimiter. Defaulting to comma.\")\n",
    "        \n",
    "        # Read the CSV with the detected delimiter and specify decimal separator\n",
    "        df = pd.read_csv(csv_file_path, delimiter=delimiter, decimal=',')\n",
    "        \n",
    "        # Start building the HTML structure\n",
    "        html_content = \"\"\"<html>\n",
    "<head>\n",
    "    <title>CSV to HTML</title>\n",
    "    <style>\n",
    "        table {\n",
    "            width: 100%;\n",
    "            border-collapse: collapse;\n",
    "        }\n",
    "        table, th, td {\n",
    "            border: 1px solid black;\n",
    "        }\n",
    "        th, td {\n",
    "            padding: 8px;\n",
    "            text-align: left;\n",
    "        }\n",
    "        th {\n",
    "            background-color: #f2f2f2;\n",
    "        }\n",
    "    </style>\n",
    "</head>\n",
    "<body>\n",
    "    <h2>CSV to HTML Table</h2>\n",
    "    <table>\n",
    "        <thead>\n",
    "            <tr>\n",
    "\"\"\"\n",
    "\n",
    "        # Add table headers\n",
    "        for col_name in df.columns:\n",
    "            html_content += f\"<th>{col_name}</th>\"\n",
    "        \n",
    "        html_content += \"\"\"\n",
    "            </tr>\n",
    "        </thead>\n",
    "        <tbody>\n",
    "\"\"\"\n",
    "\n",
    "        # Add table rows\n",
    "        for _, row in df.iterrows():\n",
    "            html_content += \"<tr>\"\n",
    "            for value in row:\n",
    "                html_content += f\"<td>{value}</td>\"\n",
    "            html_content += \"</tr>\"\n",
    "        \n",
    "        # Close table and HTML tags\n",
    "        html_content += \"\"\"\n",
    "        </tbody>\n",
    "    </table>\n",
    "</body>\n",
    "</html>\n",
    "\"\"\"\n",
    "        # Write the HTML content to a file\n",
    "        with open(html_file_path, 'w', encoding='utf-8') as htmlfile:\n",
    "            htmlfile.write(html_content)\n",
    "        \n",
    "        print(f\"Successfully converted '{csv_file_path}' to '{html_file_path}'\")\n",
    "\n",
    "    except Exception as e:\n",
    "        print(f\"Error: {e}\")\n",
    "\n"
   ]
  },
  {
   "cell_type": "code",
   "execution_count": 19,
   "id": "642ba4cd-3032-44be-bf25-6780684658a6",
   "metadata": {},
   "outputs": [
    {
     "name": "stdout",
     "output_type": "stream",
     "text": [
      "Detected delimiter: ','\n",
      "Successfully converted './validation_files/file1.csv' to './validation_files/file1.csvoutput.html'\n"
     ]
    }
   ],
   "source": [
    "\n",
    "html_file_path = f'{file_path}output.html'\n",
    "csv_to_html(csv_file_path, html_file_path)"
   ]
  },
  {
   "cell_type": "code",
   "execution_count": 20,
   "id": "1a1448eb-7720-431c-9591-c3b90933f438",
   "metadata": {},
   "outputs": [
    {
     "name": "stdout",
     "output_type": "stream",
     "text": [
      "Order-dependent fingerprint: 3df567e40a47791600511d324a401aa0054a76ef2b3d7b59b6c9933032d04953 \n",
      "\n",
      "Order-independent fingerprint: 449a4c9bec3937396e6f19a4024011877cc514cc4d47bd9a24ee7b661c2b274d \n",
      "\n"
     ]
    },
    {
     "name": "stderr",
     "output_type": "stream",
     "text": [
      "/home/jupyter-aqpha/Chris/FingerPrinting/data_fingerprint.py:193: UserWarning: Could not infer format, so each element will be parsed individually, falling back to `dateutil`. To ensure parsing is consistent and as-expected, please specify a format.\n",
      "  parsed_col = pd.to_datetime(df[col], errors='coerce')\n",
      "/home/jupyter-aqpha/Chris/FingerPrinting/data_fingerprint.py:193: UserWarning: Could not infer format, so each element will be parsed individually, falling back to `dateutil`. To ensure parsing is consistent and as-expected, please specify a format.\n",
      "  parsed_col = pd.to_datetime(df[col], errors='coerce')\n",
      "/home/jupyter-aqpha/Chris/FingerPrinting/data_fingerprint.py:193: UserWarning: Could not infer format, so each element will be parsed individually, falling back to `dateutil`. To ensure parsing is consistent and as-expected, please specify a format.\n",
      "  parsed_col = pd.to_datetime(df[col], errors='coerce')\n",
      "/home/jupyter-aqpha/Chris/FingerPrinting/data_fingerprint.py:193: UserWarning: Could not infer format, so each element will be parsed individually, falling back to `dateutil`. To ensure parsing is consistent and as-expected, please specify a format.\n",
      "  parsed_col = pd.to_datetime(df[col], errors='coerce')\n"
     ]
    }
   ],
   "source": [
    "# Order-Dependent Fingerprint\n",
    "fingerprint_dep = data_fingerprint.process_file_with_order_dependent_fingerprint(html_file_path)\n",
    "print(\"Order-dependent fingerprint:\", fingerprint_dep, \"\\n\")\n",
    "\n",
    "# Order-Independent Fingerprint\n",
    "fingerprint_indep = data_fingerprint.process_file_with_order_independent_fingerprint(html_file_path)\n",
    "print(\"Order-independent fingerprint:\", fingerprint_indep, \"\\n\")"
   ]
  },
  {
   "cell_type": "code",
   "execution_count": 21,
   "id": "a3f6bd9c-a1d0-44fb-997b-05a9f00b6373",
   "metadata": {},
   "outputs": [],
   "source": [
    "import pandas as pd\n",
    "import csv\n",
    "import pickle\n",
    "\n",
    "def csv_to_pickle(csv_file_path, pickle_file_path):\n",
    "    try:\n",
    "        # Read a sample of the file to detect the delimiter\n",
    "        with open(csv_file_path, 'r', encoding='utf-8') as csvfile:\n",
    "            sample = csvfile.read(2048)\n",
    "            # Use Sniffer to detect the delimiter\n",
    "            sniffer = csv.Sniffer()\n",
    "            try:\n",
    "                dialect = sniffer.sniff(sample, delimiters=[',', ';', '\\t', '|'])\n",
    "                delimiter = dialect.delimiter\n",
    "                print(f\"Detected delimiter: '{delimiter}'\")\n",
    "            except csv.Error:\n",
    "                # Default to comma if Sniffer fails\n",
    "                delimiter = ','\n",
    "                print(\"Could not detect delimiter. Defaulting to comma.\")\n",
    "        \n",
    "        # Read the CSV with the detected delimiter and specify decimal separator\n",
    "        df = pd.read_csv(csv_file_path, delimiter=delimiter, decimal=',')\n",
    "        \n",
    "        # Write the DataFrame to a pickle file\n",
    "        with open(pickle_file_path, 'wb') as picklefile:\n",
    "            pickle.dump(df, picklefile)\n",
    "        \n",
    "        print(f\"Successfully converted '{csv_file_path}' to '{pickle_file_path}'\")\n",
    "\n",
    "    except Exception as e:\n",
    "        print(f\"Error: {e}\")\n",
    "\n"
   ]
  },
  {
   "cell_type": "code",
   "execution_count": 22,
   "id": "2ff1afb8-2f52-4af1-810f-493cb1718fa3",
   "metadata": {},
   "outputs": [
    {
     "name": "stdout",
     "output_type": "stream",
     "text": [
      "Detected delimiter: ','\n",
      "Successfully converted './validation_files/file1.csv' to './validation_files/file1.csvoutput.pkl'\n"
     ]
    }
   ],
   "source": [
    "pickle_file_path = f'{file_path}output.pkl'\n",
    "csv_to_pickle(csv_file_path, pickle_file_path)"
   ]
  },
  {
   "cell_type": "code",
   "execution_count": 23,
   "id": "38b1d157-8fd9-49e6-a08d-04c361898ad4",
   "metadata": {},
   "outputs": [
    {
     "name": "stderr",
     "output_type": "stream",
     "text": [
      "/home/jupyter-aqpha/Chris/FingerPrinting/data_fingerprint.py:193: UserWarning: Could not infer format, so each element will be parsed individually, falling back to `dateutil`. To ensure parsing is consistent and as-expected, please specify a format.\n",
      "  parsed_col = pd.to_datetime(df[col], errors='coerce')\n",
      "/home/jupyter-aqpha/Chris/FingerPrinting/data_fingerprint.py:193: UserWarning: Could not infer format, so each element will be parsed individually, falling back to `dateutil`. To ensure parsing is consistent and as-expected, please specify a format.\n",
      "  parsed_col = pd.to_datetime(df[col], errors='coerce')\n",
      "/home/jupyter-aqpha/Chris/FingerPrinting/data_fingerprint.py:193: UserWarning: Could not infer format, so each element will be parsed individually, falling back to `dateutil`. To ensure parsing is consistent and as-expected, please specify a format.\n",
      "  parsed_col = pd.to_datetime(df[col], errors='coerce')\n",
      "/home/jupyter-aqpha/Chris/FingerPrinting/data_fingerprint.py:193: UserWarning: Could not infer format, so each element will be parsed individually, falling back to `dateutil`. To ensure parsing is consistent and as-expected, please specify a format.\n",
      "  parsed_col = pd.to_datetime(df[col], errors='coerce')\n",
      "/home/jupyter-aqpha/Chris/FingerPrinting/data_fingerprint.py:193: UserWarning: Could not infer format, so each element will be parsed individually, falling back to `dateutil`. To ensure parsing is consistent and as-expected, please specify a format.\n",
      "  parsed_col = pd.to_datetime(df[col], errors='coerce')\n",
      "/home/jupyter-aqpha/Chris/FingerPrinting/data_fingerprint.py:193: UserWarning: Could not infer format, so each element will be parsed individually, falling back to `dateutil`. To ensure parsing is consistent and as-expected, please specify a format.\n",
      "  parsed_col = pd.to_datetime(df[col], errors='coerce')\n"
     ]
    },
    {
     "name": "stdout",
     "output_type": "stream",
     "text": [
      "Order-dependent fingerprint: e44b8b6ae0d3da5961f5d95453075e318e9052c21365265ad8d2d1387bac1554 \n",
      "\n",
      "Order-independent fingerprint: 343fbc3eb685237bb01be8d9a736645415d678c075b7afd0ae6588af61003500 \n",
      "\n"
     ]
    }
   ],
   "source": [
    "# Order-Dependent Fingerprint\n",
    "fingerprint_dep = data_fingerprint.process_file_with_order_dependent_fingerprint(pickle_file_path)\n",
    "print(\"Order-dependent fingerprint:\", fingerprint_dep, \"\\n\")\n",
    "\n",
    "# Order-Independent Fingerprint\n",
    "fingerprint_indep = data_fingerprint.process_file_with_order_independent_fingerprint(pickle_file_path)\n",
    "print(\"Order-independent fingerprint:\", fingerprint_indep, \"\\n\")"
   ]
  },
  {
   "cell_type": "code",
   "execution_count": 24,
   "id": "f63aa91a-f455-4602-b144-8dba6fc6fb86",
   "metadata": {},
   "outputs": [],
   "source": [
    "import pandas as pd\n",
    "import csv\n",
    "import pyreadstat\n",
    "\n",
    "def csv_to_spss(csv_file_path, spss_file_path):\n",
    "    try:\n",
    "        # Read a sample of the file to detect the delimiter\n",
    "        with open(csv_file_path, 'r', encoding='utf-8') as csvfile:\n",
    "            sample = csvfile.read(2048)\n",
    "            # Use Sniffer to detect the delimiter\n",
    "            sniffer = csv.Sniffer()\n",
    "            try:\n",
    "                dialect = sniffer.sniff(sample, delimiters=[',', ';', '\\t', '|'])\n",
    "                delimiter = dialect.delimiter\n",
    "                print(f\"Detected delimiter: '{delimiter}'\")\n",
    "            except csv.Error:\n",
    "                # Default to comma if Sniffer fails\n",
    "                delimiter = ','\n",
    "                print(\"Could not detect delimiter. Defaulting to comma.\")\n",
    "        \n",
    "        # Read the CSV with the detected delimiter and specify decimal separator\n",
    "        df = pd.read_csv(csv_file_path, delimiter=delimiter, decimal=',')\n",
    "        \n",
    "        # Write the DataFrame to an SPSS file\n",
    "        pyreadstat.write_sav(df, spss_file_path)\n",
    "        \n",
    "        print(f\"Successfully converted '{csv_file_path}' to '{spss_file_path}'\")\n",
    "\n",
    "    except Exception as e:\n",
    "        print(f\"Error: {e}\")\n",
    "\n"
   ]
  },
  {
   "cell_type": "code",
   "execution_count": 25,
   "id": "cb76e660-90c6-4f75-a574-4837d63efaef",
   "metadata": {},
   "outputs": [
    {
     "name": "stdout",
     "output_type": "stream",
     "text": [
      "Detected delimiter: ','\n",
      "Successfully converted './validation_files/file1.csv' to './validation_files/file1.csvoutput.sav'\n"
     ]
    }
   ],
   "source": [
    "spss_file_path = f'{file_path}output.sav'\n",
    "csv_to_spss(csv_file_path, spss_file_path)"
   ]
  },
  {
   "cell_type": "code",
   "execution_count": 26,
   "id": "d79acca1-ffcb-403a-9013-3cc2b77f1f0d",
   "metadata": {},
   "outputs": [
    {
     "name": "stdout",
     "output_type": "stream",
     "text": [
      "Order-dependent fingerprint: e44b8b6ae0d3da5961f5d95453075e318e9052c21365265ad8d2d1387bac1554 \n",
      "\n",
      "Order-independent fingerprint: 343fbc3eb685237bb01be8d9a736645415d678c075b7afd0ae6588af61003500 \n",
      "\n"
     ]
    },
    {
     "name": "stderr",
     "output_type": "stream",
     "text": [
      "/home/jupyter-aqpha/Chris/FingerPrinting/data_fingerprint.py:193: UserWarning: Could not infer format, so each element will be parsed individually, falling back to `dateutil`. To ensure parsing is consistent and as-expected, please specify a format.\n",
      "  parsed_col = pd.to_datetime(df[col], errors='coerce')\n",
      "/home/jupyter-aqpha/Chris/FingerPrinting/data_fingerprint.py:193: UserWarning: Could not infer format, so each element will be parsed individually, falling back to `dateutil`. To ensure parsing is consistent and as-expected, please specify a format.\n",
      "  parsed_col = pd.to_datetime(df[col], errors='coerce')\n",
      "/home/jupyter-aqpha/Chris/FingerPrinting/data_fingerprint.py:193: UserWarning: Could not infer format, so each element will be parsed individually, falling back to `dateutil`. To ensure parsing is consistent and as-expected, please specify a format.\n",
      "  parsed_col = pd.to_datetime(df[col], errors='coerce')\n",
      "/home/jupyter-aqpha/Chris/FingerPrinting/data_fingerprint.py:193: UserWarning: Could not infer format, so each element will be parsed individually, falling back to `dateutil`. To ensure parsing is consistent and as-expected, please specify a format.\n",
      "  parsed_col = pd.to_datetime(df[col], errors='coerce')\n",
      "/home/jupyter-aqpha/Chris/FingerPrinting/data_fingerprint.py:193: UserWarning: Could not infer format, so each element will be parsed individually, falling back to `dateutil`. To ensure parsing is consistent and as-expected, please specify a format.\n",
      "  parsed_col = pd.to_datetime(df[col], errors='coerce')\n",
      "/home/jupyter-aqpha/Chris/FingerPrinting/data_fingerprint.py:193: UserWarning: Could not infer format, so each element will be parsed individually, falling back to `dateutil`. To ensure parsing is consistent and as-expected, please specify a format.\n",
      "  parsed_col = pd.to_datetime(df[col], errors='coerce')\n"
     ]
    }
   ],
   "source": [
    "# Order-Dependent Fingerprint\n",
    "fingerprint_dep = data_fingerprint.process_file_with_order_dependent_fingerprint(spss_file_path)\n",
    "print(\"Order-dependent fingerprint:\", fingerprint_dep, \"\\n\")\n",
    "\n",
    "# Order-Independent Fingerprint\n",
    "fingerprint_indep = data_fingerprint.process_file_with_order_independent_fingerprint(spss_file_path)\n",
    "print(\"Order-independent fingerprint:\", fingerprint_indep, \"\\n\")"
   ]
  },
  {
   "cell_type": "code",
   "execution_count": 27,
   "id": "ee8ad524-11d6-47ad-ae1e-7faab3e84a0d",
   "metadata": {},
   "outputs": [],
   "source": [
    "import pandas as pd\n",
    "import csv\n",
    "\n",
    "def csv_to_parquet(csv_file_path, parquet_file_path):\n",
    "    try:\n",
    "        # Read a sample of the file to detect the delimiter\n",
    "        with open(csv_file_path, 'r', encoding='utf-8') as csvfile:\n",
    "            sample = csvfile.read(2048)\n",
    "            # Use Sniffer to detect the delimiter\n",
    "            sniffer = csv.Sniffer()\n",
    "            try:\n",
    "                dialect = sniffer.sniff(sample, delimiters=[',', ';', '\\t', '|'])\n",
    "                delimiter = dialect.delimiter\n",
    "                print(f\"Detected delimiter: '{delimiter}'\")\n",
    "            except csv.Error:\n",
    "                # Default to comma if Sniffer fails\n",
    "                delimiter = ','\n",
    "                print(\"Could not detect delimiter. Defaulting to comma.\")\n",
    "        \n",
    "        # Read the CSV with the detected delimiter and specify decimal separator\n",
    "        df = pd.read_csv(csv_file_path, delimiter=delimiter, decimal=',')\n",
    "        \n",
    "        # Write the DataFrame to a Parquet file\n",
    "        df.to_parquet(parquet_file_path, engine='pyarrow')  # or engine='fastparquet'\n",
    "        \n",
    "        print(f\"Successfully converted '{csv_file_path}' to '{parquet_file_path}'\")\n",
    "\n",
    "    except Exception as e:\n",
    "        print(f\"Error: {e}\")\n"
   ]
  },
  {
   "cell_type": "code",
   "execution_count": 28,
   "id": "2db29b3a-8a65-4298-8985-77772b644015",
   "metadata": {},
   "outputs": [
    {
     "name": "stdout",
     "output_type": "stream",
     "text": [
      "Detected delimiter: ','\n",
      "Successfully converted './validation_files/file1.csv' to './validation_files/file1.csvoutput.parquet'\n"
     ]
    }
   ],
   "source": [
    "\n",
    "parquet_file_path = f'{file_path}output.parquet'\n",
    "csv_to_parquet(csv_file_path, parquet_file_path)\n"
   ]
  },
  {
   "cell_type": "code",
   "execution_count": 29,
   "id": "e501ffb0-4ba3-4d33-a85f-3e62e71e5dd5",
   "metadata": {},
   "outputs": [
    {
     "name": "stderr",
     "output_type": "stream",
     "text": [
      "/home/jupyter-aqpha/Chris/FingerPrinting/data_fingerprint.py:193: UserWarning: Could not infer format, so each element will be parsed individually, falling back to `dateutil`. To ensure parsing is consistent and as-expected, please specify a format.\n",
      "  parsed_col = pd.to_datetime(df[col], errors='coerce')\n",
      "/home/jupyter-aqpha/Chris/FingerPrinting/data_fingerprint.py:193: UserWarning: Could not infer format, so each element will be parsed individually, falling back to `dateutil`. To ensure parsing is consistent and as-expected, please specify a format.\n",
      "  parsed_col = pd.to_datetime(df[col], errors='coerce')\n",
      "/home/jupyter-aqpha/Chris/FingerPrinting/data_fingerprint.py:193: UserWarning: Could not infer format, so each element will be parsed individually, falling back to `dateutil`. To ensure parsing is consistent and as-expected, please specify a format.\n",
      "  parsed_col = pd.to_datetime(df[col], errors='coerce')\n",
      "/home/jupyter-aqpha/Chris/FingerPrinting/data_fingerprint.py:193: UserWarning: Could not infer format, so each element will be parsed individually, falling back to `dateutil`. To ensure parsing is consistent and as-expected, please specify a format.\n",
      "  parsed_col = pd.to_datetime(df[col], errors='coerce')\n"
     ]
    },
    {
     "name": "stdout",
     "output_type": "stream",
     "text": [
      "Order-dependent fingerprint: e44b8b6ae0d3da5961f5d95453075e318e9052c21365265ad8d2d1387bac1554 \n",
      "\n",
      "Order-independent fingerprint: 343fbc3eb685237bb01be8d9a736645415d678c075b7afd0ae6588af61003500 \n",
      "\n"
     ]
    },
    {
     "name": "stderr",
     "output_type": "stream",
     "text": [
      "/home/jupyter-aqpha/Chris/FingerPrinting/data_fingerprint.py:193: UserWarning: Could not infer format, so each element will be parsed individually, falling back to `dateutil`. To ensure parsing is consistent and as-expected, please specify a format.\n",
      "  parsed_col = pd.to_datetime(df[col], errors='coerce')\n",
      "/home/jupyter-aqpha/Chris/FingerPrinting/data_fingerprint.py:193: UserWarning: Could not infer format, so each element will be parsed individually, falling back to `dateutil`. To ensure parsing is consistent and as-expected, please specify a format.\n",
      "  parsed_col = pd.to_datetime(df[col], errors='coerce')\n"
     ]
    }
   ],
   "source": [
    "# Order-Dependent Fingerprint\n",
    "fingerprint_dep = data_fingerprint.process_file_with_order_dependent_fingerprint(parquet_file_path)\n",
    "print(\"Order-dependent fingerprint:\", fingerprint_dep, \"\\n\")\n",
    "\n",
    "# Order-Independent Fingerprint\n",
    "fingerprint_indep = data_fingerprint.process_file_with_order_independent_fingerprint(parquet_file_path)\n",
    "print(\"Order-independent fingerprint:\", fingerprint_indep, \"\\n\")"
   ]
  },
  {
   "cell_type": "code",
   "execution_count": 30,
   "id": "0bbff4b6-ab7f-43c9-ab3b-62ffc276b036",
   "metadata": {},
   "outputs": [],
   "source": [
    "import pandas as pd\n",
    "import csv\n",
    "\n",
    "def csv_to_feather(csv_file_path, feather_file_path):\n",
    "    try:\n",
    "        # Read a sample of the file to detect the delimiter\n",
    "        with open(csv_file_path, 'r', encoding='utf-8') as csvfile:\n",
    "            sample = csvfile.read(2048)\n",
    "            # Use Sniffer to detect the delimiter\n",
    "            sniffer = csv.Sniffer()\n",
    "            try:\n",
    "                dialect = sniffer.sniff(sample, delimiters=[',', ';', '\\t', '|'])\n",
    "                delimiter = dialect.delimiter\n",
    "                print(f\"Detected delimiter: '{delimiter}'\")\n",
    "            except csv.Error:\n",
    "                # Default to comma if Sniffer fails\n",
    "                delimiter = ','\n",
    "                print(\"Could not detect delimiter. Defaulting to comma.\")\n",
    "        \n",
    "        # Read the CSV with the detected delimiter and specify decimal separator\n",
    "        df = pd.read_csv(csv_file_path, delimiter=delimiter, decimal=',')\n",
    "        \n",
    "        # Write the DataFrame to a Feather file\n",
    "        df.to_feather(feather_file_path)\n",
    "        \n",
    "        print(f\"Successfully converted '{csv_file_path}' to '{feather_file_path}'\")\n",
    "\n",
    "    except Exception as e:\n",
    "        print(f\"Error: {e}\")\n",
    "\n"
   ]
  },
  {
   "cell_type": "code",
   "execution_count": 31,
   "id": "74ed4895-18dc-464b-b433-aa9d90d78c40",
   "metadata": {},
   "outputs": [
    {
     "name": "stdout",
     "output_type": "stream",
     "text": [
      "Detected delimiter: ','\n",
      "Successfully converted './validation_files/file1.csv' to './validation_files/file1.csvoutput.feather'\n"
     ]
    }
   ],
   "source": [
    "\n",
    "feather_file_path = f'{file_path}output.feather'\n",
    "csv_to_feather(csv_file_path, feather_file_path)"
   ]
  },
  {
   "cell_type": "code",
   "execution_count": 32,
   "id": "94fbbf1e-8a13-43c8-9b4f-1c9e28d48261",
   "metadata": {},
   "outputs": [
    {
     "name": "stdout",
     "output_type": "stream",
     "text": [
      "Order-dependent fingerprint: e44b8b6ae0d3da5961f5d95453075e318e9052c21365265ad8d2d1387bac1554 \n",
      "\n",
      "Order-independent fingerprint: 343fbc3eb685237bb01be8d9a736645415d678c075b7afd0ae6588af61003500 \n",
      "\n"
     ]
    },
    {
     "name": "stderr",
     "output_type": "stream",
     "text": [
      "/home/jupyter-aqpha/Chris/FingerPrinting/data_fingerprint.py:193: UserWarning: Could not infer format, so each element will be parsed individually, falling back to `dateutil`. To ensure parsing is consistent and as-expected, please specify a format.\n",
      "  parsed_col = pd.to_datetime(df[col], errors='coerce')\n",
      "/home/jupyter-aqpha/Chris/FingerPrinting/data_fingerprint.py:193: UserWarning: Could not infer format, so each element will be parsed individually, falling back to `dateutil`. To ensure parsing is consistent and as-expected, please specify a format.\n",
      "  parsed_col = pd.to_datetime(df[col], errors='coerce')\n",
      "/home/jupyter-aqpha/Chris/FingerPrinting/data_fingerprint.py:193: UserWarning: Could not infer format, so each element will be parsed individually, falling back to `dateutil`. To ensure parsing is consistent and as-expected, please specify a format.\n",
      "  parsed_col = pd.to_datetime(df[col], errors='coerce')\n",
      "/home/jupyter-aqpha/Chris/FingerPrinting/data_fingerprint.py:193: UserWarning: Could not infer format, so each element will be parsed individually, falling back to `dateutil`. To ensure parsing is consistent and as-expected, please specify a format.\n",
      "  parsed_col = pd.to_datetime(df[col], errors='coerce')\n",
      "/home/jupyter-aqpha/Chris/FingerPrinting/data_fingerprint.py:193: UserWarning: Could not infer format, so each element will be parsed individually, falling back to `dateutil`. To ensure parsing is consistent and as-expected, please specify a format.\n",
      "  parsed_col = pd.to_datetime(df[col], errors='coerce')\n",
      "/home/jupyter-aqpha/Chris/FingerPrinting/data_fingerprint.py:193: UserWarning: Could not infer format, so each element will be parsed individually, falling back to `dateutil`. To ensure parsing is consistent and as-expected, please specify a format.\n",
      "  parsed_col = pd.to_datetime(df[col], errors='coerce')\n"
     ]
    }
   ],
   "source": [
    "# Order-Dependent Fingerprint\n",
    "fingerprint_dep = data_fingerprint.process_file_with_order_dependent_fingerprint(feather_file_path)\n",
    "print(\"Order-dependent fingerprint:\", fingerprint_dep, \"\\n\")\n",
    "\n",
    "# Order-Independent Fingerprint\n",
    "fingerprint_indep = data_fingerprint.process_file_with_order_independent_fingerprint(feather_file_path)\n",
    "print(\"Order-independent fingerprint:\", fingerprint_indep, \"\\n\")"
   ]
  },
  {
   "cell_type": "code",
   "execution_count": 33,
   "id": "35630976-5857-4808-b9a3-ca424e6d751f",
   "metadata": {},
   "outputs": [],
   "source": [
    "import pandas as pd\n",
    "import csv\n",
    "\n",
    "def csv_to_stata(csv_file_path, stata_file_path):\n",
    "    try:\n",
    "        # Read a sample of the file to detect the delimiter\n",
    "        with open(csv_file_path, 'r', encoding='utf-8') as csvfile:\n",
    "            sample = csvfile.read(2048)\n",
    "            # Use Sniffer to detect the delimiter\n",
    "            sniffer = csv.Sniffer()\n",
    "            try:\n",
    "                dialect = sniffer.sniff(sample, delimiters=[',', ';', '\\t', '|'])\n",
    "                delimiter = dialect.delimiter\n",
    "                print(f\"Detected delimiter: '{delimiter}'\")\n",
    "            except csv.Error:\n",
    "                # Default to comma if Sniffer fails\n",
    "                delimiter = ','\n",
    "                print(\"Could not detect delimiter. Defaulting to comma.\")\n",
    "        \n",
    "        # Read the CSV with the detected delimiter and specify decimal separator\n",
    "        df = pd.read_csv(csv_file_path, delimiter=delimiter, decimal=',')\n",
    "        \n",
    "        # Write the DataFrame to a Stata .dta file\n",
    "        df.to_stata(stata_file_path, write_index=False)\n",
    "        \n",
    "        print(f\"Successfully converted '{csv_file_path}' to '{stata_file_path}'\")\n",
    "\n",
    "    except Exception as e:\n",
    "        print(f\"Error: {e}\")\n",
    "\n"
   ]
  },
  {
   "cell_type": "code",
   "execution_count": 34,
   "id": "91894602-3cda-4df8-9767-36f6903a946d",
   "metadata": {},
   "outputs": [
    {
     "name": "stdout",
     "output_type": "stream",
     "text": [
      "Detected delimiter: ','\n",
      "Successfully converted './validation_files/file1.csv' to './validation_files/file1.csvoutput.dta'\n"
     ]
    }
   ],
   "source": [
    "stata_file_path = f'{file_path}output.dta'\n",
    "csv_to_stata(csv_file_path, stata_file_path)"
   ]
  },
  {
   "cell_type": "code",
   "execution_count": 35,
   "id": "54172e68-25e5-4985-893d-a7f44e0f9880",
   "metadata": {},
   "outputs": [
    {
     "name": "stderr",
     "output_type": "stream",
     "text": [
      "/home/jupyter-aqpha/Chris/FingerPrinting/data_fingerprint.py:193: UserWarning: Could not infer format, so each element will be parsed individually, falling back to `dateutil`. To ensure parsing is consistent and as-expected, please specify a format.\n",
      "  parsed_col = pd.to_datetime(df[col], errors='coerce')\n",
      "/home/jupyter-aqpha/Chris/FingerPrinting/data_fingerprint.py:193: UserWarning: Could not infer format, so each element will be parsed individually, falling back to `dateutil`. To ensure parsing is consistent and as-expected, please specify a format.\n",
      "  parsed_col = pd.to_datetime(df[col], errors='coerce')\n",
      "/home/jupyter-aqpha/Chris/FingerPrinting/data_fingerprint.py:193: UserWarning: Could not infer format, so each element will be parsed individually, falling back to `dateutil`. To ensure parsing is consistent and as-expected, please specify a format.\n",
      "  parsed_col = pd.to_datetime(df[col], errors='coerce')\n",
      "/home/jupyter-aqpha/Chris/FingerPrinting/data_fingerprint.py:193: UserWarning: Could not infer format, so each element will be parsed individually, falling back to `dateutil`. To ensure parsing is consistent and as-expected, please specify a format.\n",
      "  parsed_col = pd.to_datetime(df[col], errors='coerce')\n"
     ]
    },
    {
     "name": "stdout",
     "output_type": "stream",
     "text": [
      "Order-dependent fingerprint: e44b8b6ae0d3da5961f5d95453075e318e9052c21365265ad8d2d1387bac1554 \n",
      "\n",
      "Order-independent fingerprint: 343fbc3eb685237bb01be8d9a736645415d678c075b7afd0ae6588af61003500 \n",
      "\n"
     ]
    },
    {
     "name": "stderr",
     "output_type": "stream",
     "text": [
      "/home/jupyter-aqpha/Chris/FingerPrinting/data_fingerprint.py:193: UserWarning: Could not infer format, so each element will be parsed individually, falling back to `dateutil`. To ensure parsing is consistent and as-expected, please specify a format.\n",
      "  parsed_col = pd.to_datetime(df[col], errors='coerce')\n",
      "/home/jupyter-aqpha/Chris/FingerPrinting/data_fingerprint.py:193: UserWarning: Could not infer format, so each element will be parsed individually, falling back to `dateutil`. To ensure parsing is consistent and as-expected, please specify a format.\n",
      "  parsed_col = pd.to_datetime(df[col], errors='coerce')\n"
     ]
    }
   ],
   "source": [
    "# Order-Dependent Fingerprint\n",
    "fingerprint_dep = data_fingerprint.process_file_with_order_dependent_fingerprint(stata_file_path)\n",
    "print(\"Order-dependent fingerprint:\", fingerprint_dep, \"\\n\")\n",
    "\n",
    "# Order-Independent Fingerprint\n",
    "fingerprint_indep = data_fingerprint.process_file_with_order_independent_fingerprint(stata_file_path)\n",
    "print(\"Order-independent fingerprint:\", fingerprint_indep, \"\\n\")"
   ]
  },
  {
   "cell_type": "code",
   "execution_count": 36,
   "id": "4e7fbd09-911f-4cd9-a04f-fccb2c921e88",
   "metadata": {},
   "outputs": [],
   "source": [
    "import pandas as pd\n",
    "import csv\n",
    "\n",
    "def csv_to_hdf5(csv_file_path, hdf5_file_path):\n",
    "    try:\n",
    "        # Read a sample of the file to detect the delimiter\n",
    "        with open(csv_file_path, 'r', encoding='utf-8') as csvfile:\n",
    "            sample = csvfile.read(2048)\n",
    "            # Use Sniffer to detect the delimiter\n",
    "            sniffer = csv.Sniffer()\n",
    "            try:\n",
    "                dialect = sniffer.sniff(sample, delimiters=[',', ';', '\\t', '|'])\n",
    "                delimiter = dialect.delimiter\n",
    "                print(f\"Detected delimiter: '{delimiter}'\")\n",
    "            except csv.Error:\n",
    "                # Default to comma if Sniffer fails\n",
    "                delimiter = ','\n",
    "                print(\"Could not detect delimiter. Defaulting to comma.\")\n",
    "        \n",
    "        # Read the CSV with the detected delimiter and specify decimal separator\n",
    "        df = pd.read_csv(csv_file_path, delimiter=delimiter, decimal=',')\n",
    "        \n",
    "        # Write the DataFrame to an HDF5 file\n",
    "        df.to_hdf(hdf5_file_path, key='data', mode='w')\n",
    "        \n",
    "        print(f\"Successfully converted '{csv_file_path}' to '{hdf5_file_path}'\")\n",
    "\n",
    "    except Exception as e:\n",
    "        print(f\"Error: {e}\")\n",
    "\n"
   ]
  },
  {
   "cell_type": "code",
   "execution_count": 37,
   "id": "794659cd-d218-42d9-8712-1cde555ebc06",
   "metadata": {},
   "outputs": [
    {
     "name": "stdout",
     "output_type": "stream",
     "text": [
      "Detected delimiter: ','\n",
      "Successfully converted './validation_files/file1.csv' to './validation_files/file1.csvoutput.h5'\n"
     ]
    }
   ],
   "source": [
    "hdf5_file_path = f'{file_path}output.h5'\n",
    "csv_to_hdf5(csv_file_path, hdf5_file_path)"
   ]
  },
  {
   "cell_type": "code",
   "execution_count": 38,
   "id": "a19faa90-d843-470e-a253-ee953d76415d",
   "metadata": {},
   "outputs": [
    {
     "name": "stdout",
     "output_type": "stream",
     "text": [
      "Order-dependent fingerprint: e44b8b6ae0d3da5961f5d95453075e318e9052c21365265ad8d2d1387bac1554 \n",
      "\n"
     ]
    },
    {
     "name": "stderr",
     "output_type": "stream",
     "text": [
      "/home/jupyter-aqpha/Chris/FingerPrinting/data_fingerprint.py:193: UserWarning: Could not infer format, so each element will be parsed individually, falling back to `dateutil`. To ensure parsing is consistent and as-expected, please specify a format.\n",
      "  parsed_col = pd.to_datetime(df[col], errors='coerce')\n",
      "/home/jupyter-aqpha/Chris/FingerPrinting/data_fingerprint.py:193: UserWarning: Could not infer format, so each element will be parsed individually, falling back to `dateutil`. To ensure parsing is consistent and as-expected, please specify a format.\n",
      "  parsed_col = pd.to_datetime(df[col], errors='coerce')\n",
      "/home/jupyter-aqpha/Chris/FingerPrinting/data_fingerprint.py:193: UserWarning: Could not infer format, so each element will be parsed individually, falling back to `dateutil`. To ensure parsing is consistent and as-expected, please specify a format.\n",
      "  parsed_col = pd.to_datetime(df[col], errors='coerce')\n",
      "/home/jupyter-aqpha/Chris/FingerPrinting/data_fingerprint.py:193: UserWarning: Could not infer format, so each element will be parsed individually, falling back to `dateutil`. To ensure parsing is consistent and as-expected, please specify a format.\n",
      "  parsed_col = pd.to_datetime(df[col], errors='coerce')\n",
      "/home/jupyter-aqpha/Chris/FingerPrinting/data_fingerprint.py:193: UserWarning: Could not infer format, so each element will be parsed individually, falling back to `dateutil`. To ensure parsing is consistent and as-expected, please specify a format.\n",
      "  parsed_col = pd.to_datetime(df[col], errors='coerce')\n",
      "/home/jupyter-aqpha/Chris/FingerPrinting/data_fingerprint.py:193: UserWarning: Could not infer format, so each element will be parsed individually, falling back to `dateutil`. To ensure parsing is consistent and as-expected, please specify a format.\n",
      "  parsed_col = pd.to_datetime(df[col], errors='coerce')\n"
     ]
    },
    {
     "name": "stdout",
     "output_type": "stream",
     "text": [
      "Order-independent fingerprint: 343fbc3eb685237bb01be8d9a736645415d678c075b7afd0ae6588af61003500 \n",
      "\n"
     ]
    }
   ],
   "source": [
    "# Order-Dependent Fingerprint\n",
    "fingerprint_dep = data_fingerprint.process_file_with_order_dependent_fingerprint(hdf5_file_path)\n",
    "print(\"Order-dependent fingerprint:\", fingerprint_dep, \"\\n\")\n",
    "\n",
    "# Order-Independent Fingerprint\n",
    "fingerprint_indep = data_fingerprint.process_file_with_order_independent_fingerprint(hdf5_file_path)\n",
    "print(\"Order-independent fingerprint:\", fingerprint_indep, \"\\n\")"
   ]
  }
 ],
 "metadata": {
  "kernelspec": {
   "display_name": "Python 3 (ipykernel)",
   "language": "python",
   "name": "python3"
  },
  "language_info": {
   "codemirror_mode": {
    "name": "ipython",
    "version": 3
   },
   "file_extension": ".py",
   "mimetype": "text/x-python",
   "name": "python",
   "nbconvert_exporter": "python",
   "pygments_lexer": "ipython3",
   "version": "3.10.10"
  }
 },
 "nbformat": 4,
 "nbformat_minor": 5
}
